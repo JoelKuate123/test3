{
 "cells": [
  {
   "cell_type": "markdown",
   "metadata": {},
   "source": [
    "Exercise 4.1:\n",
    "\n",
    "Écrivez un programme qui utilise la méthode pack pour organiser deux boutons dans une fenêtre. Le premier bouton doit être aligné à gauche de la fenêtre, et le second bouton doit être aligné à droite."
   ]
  },
  {
   "cell_type": "code",
   "execution_count": 8,
   "metadata": {},
   "outputs": [],
   "source": [
    "import tkinter as tk\n",
    "\n",
    "# Initialisation de la fenetre principale\n",
    "root = tk.Tk()\n",
    "root.title(\"Alignement des Boutons\")\n",
    "\n",
    "# Création du premier bouton aligné à gauche\n",
    "bl = tk.Button(root, text=\"Bouton Gauche\")\n",
    "bl.pack(side='left', padx=10, pady=10)  # 'padx' et 'pady' ajoutent un peu d'espace autour du bouton\n",
    "\n",
    "# Création du second bouton aligné à droite\n",
    "br = tk.Button(root, text=\"Bouton Droit\")\n",
    "br.pack(side='right', padx=10, pady=10)\n",
    "\n",
    "# Lancement de la boucle principale\n",
    "root.mainloop()\n"
   ]
  },
  {
   "cell_type": "markdown",
   "metadata": {},
   "source": [
    "Exercice 4.2 :\n",
    "\n",
    "Écrivez un programme qui utilise la méthode pack pour organiser trois entrées de texte dans une fenêtre. Les entrées de texte doivent être empilées les unes sur les autres."
   ]
  },
  {
   "cell_type": "code",
   "execution_count": 10,
   "metadata": {},
   "outputs": [],
   "source": [
    "import tkinter as tk\n",
    "\n",
    "# Initialisation de la fenetre principale\n",
    "root = tk.Tk()\n",
    "root.title(\"Empilement des Entrées de Texte\")\n",
    "\n",
    "# Création et empilement de la première entrée de texte\n",
    "entry1 = tk.Entry(root)\n",
    "entry1.pack(padx=10, pady=5)  # Ajoute un peu d'espace autour de l'entrée\n",
    "\n",
    "# Création et empilement de la deuxième entrée de texte\n",
    "entry2 = tk.Entry(root)\n",
    "entry2.pack(padx=10, pady=5)  # Espace identique pour une apparence uniforme\n",
    "\n",
    "# Création et empilement de la troisième entrée de texte\n",
    "entry3 = tk.Entry(root)\n",
    "entry3.pack(padx=10, pady=5)\n",
    "\n",
    "# Lancement de la boucle principale\n",
    "root.mainloop()\n"
   ]
  },
  {
   "cell_type": "markdown",
   "metadata": {},
   "source": [
    "Exercice 4.3 :\n",
    "\n",
    "Écrivez un programme qui utilise la méthode pack pour organiser une liste déroulante et un bouton dans une fenêtre. Le bouton doit être aligné au milieu de la fenêtre et la liste déroulante doit être alignée à gauche."
   ]
  },
  {
   "cell_type": "code",
   "execution_count": 3,
   "metadata": {},
   "outputs": [],
   "source": [
    "import tkinter as tk\n",
    "from tkinter import ttk  # Pour le widget Combobox\n",
    "\n",
    "# Initialisation de la fenêtre principale\n",
    "root = tk.Tk()\n",
    "root.title(\"Liste Déroulante et Bouton\")\n",
    "\n",
    "# Création d'une liste déroulante (Combobox)\n",
    "options = ['Option 1', 'Option 2', 'Option 3']  # Liste des options pour la combobox\n",
    "combobox = ttk.Combobox(root, values=options)\n",
    "combobox.pack(side=tk.LEFT, padx=10, pady=10)  # Alignement à gauche\n",
    "\n",
    "# Création d'un bouton aligné au centre\n",
    "button = tk.Button(root, text=\"Cliquez-moi\")\n",
    "button.pack(pady=10)  # Le pack par défaut centre le bouton horizontalement\n",
    "\n",
    "# Démarrage de la boucle principale de l'événement\n",
    "root.mainloop()\n",
    "\n",
    "\"\"\" Dans ce script, pack(side=tk.LEFT) est utilisé pour aligner la liste déroulante (Combobox) à gauche de la fenêtre. Lorsque vous emballez le bouton sans spécifier le côté, il est centré horizontalement dans la fenêtre par défaut.\"\"\"\n"
   ]
  },
  {
   "cell_type": "markdown",
   "metadata": {},
   "source": [
    "Exercice 4.4 :\n",
    "\n",
    "Ecrivez un programme qui utilise la méthode pack pour organiser une image et un bouton dans une fenêtre. L'image doit occuper tout l'espace disponible à gauche et le bouton doit être aligné à droite."
   ]
  },
  {
   "cell_type": "code",
   "execution_count": 2,
   "metadata": {},
   "outputs": [
    {
     "ename": "FileNotFoundError",
     "evalue": "[Errno 2] No such file or directory: 'image.jpg'",
     "output_type": "error",
     "traceback": [
      "\u001b[1;31m---------------------------------------------------------------------------\u001b[0m",
      "\u001b[1;31mFileNotFoundError\u001b[0m                         Traceback (most recent call last)",
      "Cell \u001b[1;32mIn[2], line 10\u001b[0m\n\u001b[0;32m      8\u001b[0m \u001b[38;5;66;03m# Chargement de l'image (assurez-vous que le chemin est correct)\u001b[39;00m\n\u001b[0;32m      9\u001b[0m image_path \u001b[38;5;241m=\u001b[39m \u001b[38;5;124m\"\u001b[39m\u001b[38;5;124mimage.jpg\u001b[39m\u001b[38;5;124m\"\u001b[39m\n\u001b[1;32m---> 10\u001b[0m image \u001b[38;5;241m=\u001b[39m \u001b[43mImage\u001b[49m\u001b[38;5;241;43m.\u001b[39;49m\u001b[43mopen\u001b[49m\u001b[43m(\u001b[49m\u001b[43mimage_path\u001b[49m\u001b[43m)\u001b[49m\n\u001b[0;32m     11\u001b[0m photo \u001b[38;5;241m=\u001b[39m ImageTk\u001b[38;5;241m.\u001b[39mPhotoImage(image)\n\u001b[0;32m     13\u001b[0m \u001b[38;5;66;03m# Création du Label qui contient l'image\u001b[39;00m\n",
      "File \u001b[1;32mc:\\Users\\FORMATIONS\\AppData\\Local\\Programs\\Python\\Python311\\Lib\\site-packages\\PIL\\Image.py:3247\u001b[0m, in \u001b[0;36mopen\u001b[1;34m(fp, mode, formats)\u001b[0m\n\u001b[0;32m   3244\u001b[0m     filename \u001b[38;5;241m=\u001b[39m fp\n\u001b[0;32m   3246\u001b[0m \u001b[38;5;28;01mif\u001b[39;00m filename:\n\u001b[1;32m-> 3247\u001b[0m     fp \u001b[38;5;241m=\u001b[39m \u001b[43mbuiltins\u001b[49m\u001b[38;5;241;43m.\u001b[39;49m\u001b[43mopen\u001b[49m\u001b[43m(\u001b[49m\u001b[43mfilename\u001b[49m\u001b[43m,\u001b[49m\u001b[43m \u001b[49m\u001b[38;5;124;43m\"\u001b[39;49m\u001b[38;5;124;43mrb\u001b[39;49m\u001b[38;5;124;43m\"\u001b[39;49m\u001b[43m)\u001b[49m\n\u001b[0;32m   3248\u001b[0m     exclusive_fp \u001b[38;5;241m=\u001b[39m \u001b[38;5;28;01mTrue\u001b[39;00m\n\u001b[0;32m   3250\u001b[0m \u001b[38;5;28;01mtry\u001b[39;00m:\n",
      "\u001b[1;31mFileNotFoundError\u001b[0m: [Errno 2] No such file or directory: 'image.jpg'"
     ]
    }
   ],
   "source": [
    "import tkinter as tk\n",
    "from PIL import Image, ImageTk  # Pillow pour charger et afficher des images\n",
    "\n",
    "# Initialisation de la fenêtre principale\n",
    "root = tk.Tk()\n",
    "root.title(\"Image et Bouton\")\n",
    "\n",
    "# Chargement de l'image (assurez-vous que le chemin est correct)\n",
    "image_path = \"image.jpg\"\n",
    "image = Image.open(image_path)\n",
    "photo = ImageTk.PhotoImage(image)\n",
    "\n",
    "# Création du Label qui contient l'image\n",
    "label_with_image = tk.Label(root, image=photo)\n",
    "label_with_image.pack(side=tk.LEFT, fill=tk.BOTH, expand=True)  # Remplir l'espace disponible à gauche\n",
    "\n",
    "# Création d'un bouton aligné à droite\n",
    "button = tk.Button(root, text=\"Cliquez-moi\")\n",
    "button.pack(side=tk.RIGHT, padx=10, pady=10)  # Alignement à droite avec un peu de marge\n",
    "\n",
    "# Démarrage de la boucle principale de l'événement\n",
    "root.mainloop()\n"
   ]
  },
  {
   "cell_type": "markdown",
   "metadata": {},
   "source": [
    "Exercice 5.2 :\n",
    "\n",
    "Créer une fenêtre principale avec un bouton \"Ouvrir une fenêtre secondaire\". Lorsque l'on clique sur ce bouton, une fenêtre secondaire doit s'ouvrir avec le titre \"Fenêtre secondaire\" et un bouton \"Réduire\". Lorsque l'on clique sur le bouton \"Réduire\", la fenêtre secondaire doit être réduite. Ajoutez également un bouton \"Restaurer\" à la fenêtre principale pour permettre à l'utilisateur de restaurer la fenêtre secondaire minimisée."
   ]
  },
  {
   "cell_type": "code",
   "execution_count": 3,
   "metadata": {},
   "outputs": [],
   "source": [
    "import tkinter as tk\n",
    "\n",
    "# Initialisation de la fenêtre principale\n",
    "fenetre_principale = tk.Tk()\n",
    "fenetre_principale.title(\"Fenêtre principale\")\n",
    "\n",
    "# Variable globale pour stocker la référence de la fenêtre secondaire\n",
    "fenetre_secondaire = None\n",
    "\n",
    "def ouvrir_fenetre_secondaire():\n",
    "    global fenetre_secondaire\n",
    "    \n",
    "    # Vérifie si la fenêtre secondaire existe déjà et si oui, la restaure\n",
    "    if fenetre_secondaire:\n",
    "        fenetre_secondaire.deiconify()\n",
    "    else:\n",
    "        # Création d'une nouvelle fenêtre de niveau supérieur.\n",
    "        fenetre_secondaire = tk.Toplevel()\n",
    "        fenetre_secondaire.title(\"Fenêtre secondaire\")\n",
    "\n",
    "        # Bouton pour réduire la fenêtre secondaire.\n",
    "        bouton_reduire = tk.Button(fenetre_secondaire, text=\"Réduire\", command=fenetre_secondaire.iconify)\n",
    "        bouton_reduire.pack(padx=20, pady=20)\n",
    "\n",
    "# Restaure la fenêtre secondaire minimisée\n",
    "def restaurer_fenetre_secondaire():\n",
    "    global fenetre_secondaire\n",
    "    if fenetre_secondaire:\n",
    "        fenetre_secondaire.deiconify()\n",
    "\n",
    "# Bouton pour ouvrir une fenêtre secondaire\n",
    "bouton_ouvrir = tk.Button(fenetre_principale, text=\"Ouvrir une fenêtre secondaire\", command=ouvrir_fenetre_secondaire)\n",
    "bouton_ouvrir.pack(padx=20, pady=10)\n",
    "\n",
    "# Bouton pour restaurer la fenêtre secondaire\n",
    "bouton_restaurer = tk.Button(fenetre_principale, text=\"Restaurer\", command=restaurer_fenetre_secondaire)\n",
    "bouton_restaurer.pack(padx=20, pady=10)\n",
    "\n",
    "# Démarrage de la boucle principale de l'événement\n",
    "fenetre_principale.mainloop()\n"
   ]
  },
  {
   "cell_type": "markdown",
   "metadata": {},
   "source": [
    "Exercice 5.4 :\n",
    "\n",
    "Utilisez la fonction appropriée pour afficher un message d'information à l'intention de l'utilisateur dont le contenu est \"Toto\". La boîte de dialogue doit être nommée \"Hello\"."
   ]
  },
  {
   "cell_type": "code",
   "execution_count": 9,
   "metadata": {},
   "outputs": [],
   "source": [
    "import tkinter as tk\n",
    "from tkinter import messagebox\n",
    "\n",
    "# Fonction pour afficher la boîte de dialogue d'information\n",
    "def afficher_message():\n",
    "    messagebox.showinfo(\"Hello\", \"Toto\")\n",
    "\n",
    "# Initialisation de la fenêtre principale\n",
    "fenetre_principale = tk.Tk()\n",
    "fenetre_principale.title(\"Fenêtre principale\")\n",
    "\n",
    "# Bouton qui déclenchera l'affichage du message d'information\n",
    "bouton_message = tk.Button(fenetre_principale, text=\"Afficher le message\", command=afficher_message)\n",
    "bouton_message.pack(padx=20, pady=20)\n",
    "\n",
    "# Démarrage de la boucle principale de l'événement\n",
    "fenetre_principale.mainloop()\n"
   ]
  },
  {
   "cell_type": "markdown",
   "metadata": {},
   "source": [
    "Exercice 5.5 :\n",
    "\n",
    "Utilisez la fonction appropriée pour afficher une boîte de dialogue posant à l'utilisateur la question \"Êtes-vous un adulte ?\" avec \"Oui\" et \"Non\" comme options de réponse. Enregistrez la réponse de l'utilisateur dans une variable et affichez-la dans la console."
   ]
  },
  {
   "cell_type": "code",
   "execution_count": 1,
   "metadata": {},
   "outputs": [],
   "source": [
    "import tkinter as tk\n",
    "from tkinter import messagebox\n",
    "\n",
    "# Fonction pour demander à l'utilisateur s'il est adulte\n",
    "def demander_si_adulte():\n",
    "    reponse = messagebox.askyesno(\"Question\", \"Êtes-vous un adulte ?\")\n",
    "    print(f\"La réponse est : {reponse}\")\n",
    "    return reponse\n",
    "\n",
    "# Initialisation de la fenêtre principale\n",
    "fenetre_principale = tk.Tk()\n",
    "fenetre_principale.withdraw()  # cache la fenêtre principale\n",
    "\n",
    "# Appel de la fonction et impression de la réponse\n",
    "reponse_utilisateur = demander_si_adulte()\n",
    "print(f\"L'utilisateur a répondu: {'Oui' if reponse_utilisateur else 'Non'}\")\n",
    "\n",
    "# Boucle principale de l'événement (nécessaire si la fenêtre principale est utilisée)\n",
    "# fenetre_principale.mainloop()\n"
   ]
  },
  {
   "cell_type": "markdown",
   "metadata": {},
   "source": [
    "Exercice 5.8 :\n",
    "\n",
    "Créez et affichez un bouton qui utilise la fonction appropriée pour afficher une boîte de dialogue demandant à l'utilisateur s'il souhaite fermer la fenêtre principale, avec \"Oui\" et \"Non\" comme options de réponse. Si l'utilisateur répond \"oui\", fermer l'application ; si l'utilisateur répond \"non\", ne rien faire."
   ]
  },
  {
   "cell_type": "code",
   "execution_count": 1,
   "metadata": {},
   "outputs": [],
   "source": [
    "import tkinter as tk\n",
    "from tkinter import messagebox\n",
    "\n",
    "# Fonction appelée lorsque l'utilisateur appuie sur le bouton\n",
    "def demande_fermeture():\n",
    "    reponse = messagebox.askyesno(\"Confirmation de fermeture\", \"Souhaitez-vous fermer la fenêtre principale ?\")\n",
    "    if reponse:\n",
    "        fenetre_principale.destroy()\n",
    "\n",
    "# Initialisation de la fenêtre principale\n",
    "fenetre_principale = tk.Tk()\n",
    "fenetre_principale.title(\"Fenêtre principale\")\n",
    "\n",
    "# Création du bouton qui va demander à l'utilisateur s'il souhaite fermer la fenêtre\n",
    "bouton_fermer = tk.Button(fenetre_principale, text=\"Fermer l'application\", command=demande_fermeture)\n",
    "bouton_fermer.pack(pady=20, padx=20)  # Ajoute un peu d'espace autour du bouton pour l'esthétique\n",
    "\n",
    "# Démarrage de la boucle principale de l'événement\n",
    "fenetre_principale.mainloop()\n"
   ]
  },
  {
   "cell_type": "markdown",
   "metadata": {},
   "source": [
    "Exercice 6.1 :\n",
    "\n",
    "Créez une fenêtre Tkinter de base et utilisez une variable StringVar avec le texte par défaut \"goodbye\". Créez une entrée et associez-la à la variable StringVar. Ajoutez ensuite un bouton qui affiche le contenu de l'entrée dans la console."
   ]
  },
  {
   "cell_type": "code",
   "execution_count": 11,
   "metadata": {},
   "outputs": [
    {
     "name": "stdout",
     "output_type": "stream",
     "text": [
      "goodbye\n",
      "goodbye\n"
     ]
    }
   ],
   "source": [
    "import tkinter as tk\n",
    "\n",
    "# Fonction appelée lorsque le bouton est cliqué\n",
    "def afficher_entree():\n",
    "    # Affichage du contenu de l'entrée (valeur de la variable 'texte_var') dans la console\n",
    "    print(texte_var.get())\n",
    "\n",
    "# Initialisation de la fenêtre principale\n",
    "fenetre_principale = tk.Tk()\n",
    "fenetre_principale.title(\"Fenêtre Tkinter\")\n",
    "\n",
    "# Initialisation de la variable StringVar avec le texte par défaut \"goodbye\"\n",
    "texte_var = tk.StringVar(value=\"goodbye\")\n",
    "\n",
    "# Création d'une entrée et association avec la variable StringVar\n",
    "entree_texte = tk.Entry(fenetre_principale, textvariable=texte_var)\n",
    "entree_texte.pack(pady=10)\n",
    "\n",
    "# Création du bouton qui affiche le contenu de l'entrée dans la console\n",
    "bouton_afficher = tk.Button(fenetre_principale, text=\"Afficher le texte\", command=afficher_entree)\n",
    "bouton_afficher.pack(pady=10)\n",
    "\n",
    "# Démarrage de la boucle d'évènements de la fenêtre principale\n",
    "fenetre_principale.mainloop()\n"
   ]
  },
  {
   "cell_type": "markdown",
   "metadata": {},
   "source": [
    "Exercice 6.4 :\n",
    "\n",
    "Créez une fenêtre Tkinter de base et utilisez une variable BooleanVar pour gérer l'état d'un bouton de contrôle. Utilisez une variable BooleanVar pour récupérer l'état du bouton de contrôle et utilisez cette valeur pour activer ou désactiver un bouton."
   ]
  },
  {
   "cell_type": "code",
   "execution_count": 3,
   "metadata": {},
   "outputs": [],
   "source": [
    "import tkinter as tk\n",
    "\n",
    "# Fonction appelée lors de tout changement d'état du bouton de contrôle (CheckBox)\n",
    "def gerer_etat_bouton():\n",
    "    # Si le CheckBox est coché, on active le bouton_action, sinon on le désactive\n",
    "    if etat_bouton.get() == True:\n",
    "        bouton_action['state'] = 'normal'\n",
    "    else:\n",
    "        bouton_action['state'] = 'disabled'\n",
    "\n",
    "# Initialisation de la fenêtre principale\n",
    "fenetre_principale = tk.Tk()\n",
    "fenetre_principale.title(\"Contrôle Active/Désactive Bouton\")\n",
    "\n",
    "# Initialisation de la variable BooleanVar pour gérer l'état du CheckBox\n",
    "etat_bouton = tk.BooleanVar()\n",
    "\n",
    "# Création du bouton de contrôle (CheckBox)\n",
    "check_bouton = tk.Checkbutton(fenetre_principale, text=\"Activer/Désactiver le bouton\", \n",
    "                              var=etat_bouton, command=gerer_etat_bouton)\n",
    "check_bouton.pack(pady=10)\n",
    "\n",
    "# Création d'un bouton qui sera activé/désactivé en fonction de l'état du CheckBox\n",
    "bouton_action = tk.Button(fenetre_principale, text=\"Bouton à Activer/Désactiver\")\n",
    "bouton_action['state'] = 'disabled'  # Le bouton est désactivé par défaut\n",
    "bouton_action.pack(pady=10)\n",
    "\n",
    "# Démarrage de la boucle d'évènements de la fenêtre principale\n",
    "fenetre_principale.mainloop()\n"
   ]
  },
  {
   "cell_type": "markdown",
   "metadata": {},
   "source": [
    "Créez un programme qui utilise la méthode appropriée pour lier une fonction à l'événement \"Mouvement\" pour tous les widgets de la fenêtre principale. Cette fonction doit afficher les coordonnées de la souris sur la fenêtre principale lorsque l'événement se produit."
   ]
  },
  {
   "cell_type": "code",
   "execution_count": 4,
   "metadata": {},
   "outputs": [],
   "source": [
    "import tkinter as tk\n",
    "\n",
    "# Fonction appelée lors du mouvement de la souris dans la fenêtre\n",
    "def suivre_mouvement_souris(event):\n",
    "    # Mise à jour du titre de la fenêtre avec les coordonnées actuelles de la souris\n",
    "    coordonnees = f\"Souris en x: {event.x}, y: {event.y}\"\n",
    "    fenetre_principale.title(coordonnees)\n",
    "\n",
    "# Initialisation de la fenêtre principale\n",
    "fenetre_principale = tk.Tk()\n",
    "fenetre_principale.geometry(\"400x300\")\n",
    "\n",
    "# Lier l'événement de mouvement de la souris à la fonction `suivre_mouvement_souris` pour tous les widgets\n",
    "fenetre_principale.bind('<Motion>', suivre_mouvement_souris)\n",
    "\n",
    "# Démarrage de la boucle d'évènements de la fenêtre principale\n",
    "fenetre_principale.mainloop()\n"
   ]
  },
  {
   "cell_type": "markdown",
   "metadata": {},
   "source": [
    "\n",
    "Créez un programme qui affiche 2 boutons et une étiquette. Assurez-vous que l'étiquette affiche le nom du bouton actuellement survolé. Si la souris n'est sur aucun bouton, affichez \"pas de bouton\" dans l'étiquette."
   ]
  },
  {
   "cell_type": "code",
   "execution_count": 3,
   "metadata": {},
   "outputs": [],
   "source": [
    "import tkinter as tk\n",
    "\n",
    "# Met à jour le texte de l'étiquette avec le nom du bouton survolé\n",
    "def afficher_nom_bouton(event, nom_bouton):\n",
    "    etiquette.config(text=nom_bouton)\n",
    "\n",
    "# Réinitialise le texte de l'étiquette lorsque la souris quitte un bouton\n",
    "def effacer_nom_bouton(event):\n",
    "    etiquette.config(text=\"pas de bouton\")\n",
    "\n",
    "# Création de la fenêtre principale\n",
    "fenetre_principale = tk.Tk()\n",
    "fenetre_principale.geometry(\"300x100\")\n",
    "fenetre_principale.title(\"Nom du bouton survolé\")\n",
    "\n",
    "# Création d'une étiquette\n",
    "etiquette = tk.Label(fenetre_principale, text=\"pas de bouton\", padx=10, pady=5)\n",
    "etiquette.pack()\n",
    "\n",
    "# Création du premier bouton\n",
    "bouton1 = tk.Button(fenetre_principale, text=\"Bouton 1\")\n",
    "bouton1.pack(side=tk.LEFT, padx=(50, 0))\n",
    "# Liaison des évènements de survol/clic/sortie sur le bouton 1\n",
    "bouton1.bind(\"<Enter>\", lambda event: afficher_nom_bouton(event, \"Bouton 1\"))\n",
    "bouton1.bind(\"<Leave>\", effacer_nom_bouton)\n",
    "\n",
    "# Création du second bouton\n",
    "bouton2 = tk.Button(fenetre_principale, text=\"Bouton 2\")\n",
    "bouton2.pack(side=tk.RIGHT, padx=(0, 50))\n",
    "# Liaison des évènements de survol/clic/sortie sur le bouton 2\n",
    "bouton2.bind(\"<Enter>\", lambda event: afficher_nom_bouton(event, \"Bouton 2\"))\n",
    "bouton2.bind(\"<Leave>\", effacer_nom_bouton)\n",
    "\n",
    "# Démarrage de la boucle d'évènements de la fenêtre principale\n",
    "fenetre_principale.mainloop()\n"
   ]
  },
  {
   "cell_type": "code",
   "execution_count": null,
   "metadata": {},
   "outputs": [],
   "source": [
    "import tkinter as tk\n",
    "from PIL import Image, ImageTk\n",
    "\n",
    "# Initialisation de la fenêtre principale\n",
    "root = tk.Tk()\n",
    "root.title(\"Image et Bouton avec pack\")\n",
    "\n",
    "# Chargement de l'image avec PIL\n",
    "image = Image.open(\"mag.jpg\")\n",
    "photo = ImageTk.PhotoImage(image)\n",
    "\n",
    "# Création d'un label pour afficher l'image (à gauche)\n",
    "label = tk.Label(root, image=photo)\n",
    "label.pack(side=\"left\", fill=\"both\", expand=True)\n",
    "\n",
    "# Création d'un bouton (à droite)\n",
    "button = tk.Button(root, text=\"Cliquez ici!\")\n",
    "button.pack(side=\"right\", padx=10, pady=10)\n",
    "\n",
    "# Démarrage de la boucle principale de Tkinter\n",
    "root.mainloop()\n"
   ]
  },
  {
   "cell_type": "markdown",
   "metadata": {},
   "source": [
    "Écrivez un programme qui utilise la méthode pack pour organiser un bouton, une entrée de texte et une liste déroulante dans une fenêtre. Le bouton doit être aligné à gauche, le texte doit être aligné au milieu et la liste déroulante doit être alignée à droite.\n"
   ]
  },
  {
   "cell_type": "code",
   "execution_count": 19,
   "metadata": {},
   "outputs": [],
   "source": [
    "import tkinter as tk\n",
    "\n",
    "\n",
    "# Création de la racine de la fenêtre Tkinter\n",
    "root = tk.Tk()\n",
    "root.title(\"Organisation avec pack\")\n",
    "\n",
    "# Création du bouton et emballage à gauche\n",
    "button = tk.Button(root, text=\"Cliquez-moi\")\n",
    "button.pack(side='left')\n",
    "\n",
    "# Création de l'entrée de texte et expansion pour remplir l'espace\n",
    "entry = tk.Entry(root)\n",
    "entry.pack(side='left', expand=True)\n",
    "\n",
    "# Création de la variable et de la liste déroulante, puis emballage à droite\n",
    "var = tk.StringVar(root)\n",
    "var.set(\"Option 1\")  # Définition de l'option par défaut\n",
    "options = [\"Option 1\", \"Option 2\", \"Option 3\"]\n",
    "dropdown = tk.OptionMenu(root, var, *options)\n",
    "dropdown.pack(side='left')  # Changement ici pour 'left' pour un alignement correct.\n",
    "\n",
    "# Lancement de la boucle principale de Tkinter\n",
    "root.mainloop()\n"
   ]
  },
  {
   "cell_type": "markdown",
   "metadata": {},
   "source": [
    "Une image en fond sur Tkinter "
   ]
  },
  {
   "cell_type": "code",
   "execution_count": null,
   "metadata": {},
   "outputs": [],
   "source": [
    "import tkinter as tk\n",
    "from PIL import Image, ImageTk\n",
    "\n",
    "# Fonction appelée lorsque le premier bouton est cliqué\n",
    "def on_button1_click():\n",
    "    print(\"Bouton 1 cliqué\")\n",
    "\n",
    "# Fonction appelée lorsque le second bouton est cliqué\n",
    "def on_button2_click():\n",
    "    print(\"Bouton 2 cliqué\")\n",
    "\n",
    "# Création de la racine de la fenêtre Tkinter\n",
    "root = tk.Tk()\n",
    "root.title(\"Image en Arrière-plan avec Boutons\")\n",
    "\n",
    "# Chargement de l'image de fond avec PIL\n",
    "image_path = 'chemin/vers/votre/image.jpg'  # Remplacez avec le chemin vers votre image\n",
    "image = Image.open(image_path)\n",
    "background_image = ImageTk.PhotoImage(image)\n",
    "\n",
    "# Création d'un Canvas pour l'image de fond\n",
    "canvas = tk.Canvas(root, width=image.width(), height=image.height())\n",
    "canvas.pack()\n",
    "\n",
    "# Placement de l'image dans le Canvas\n",
    "canvas.create_image(0, 0, image=background_image, anchor='nw')\n",
    "\n",
    "# Ajout du premier bouton sur le Canvas\n",
    "button1 = tk.Button(canvas, text=\"Bouton 1\", command=on_button1_click)\n",
    "button_window1 = canvas.create_window(10, 10, anchor='nw', window=button1)\n",
    "\n",
    "# Ajout du second bouton sur le Canvas\n",
    "button2 = tk.Button(canvas, text=\"Bouton 2\", command=on_button2_click)\n",
    "button_window2 = canvas.create_window(10, 50, anchor='nw', window=button2)\n",
    "\n",
    "# Lancement de la boucle principale de Tkinter\n",
    "root.mainloop()\n"
   ]
  }
 ],
 "metadata": {
  "kernelspec": {
   "display_name": "Python 3",
   "language": "python",
   "name": "python3"
  },
  "language_info": {
   "codemirror_mode": {
    "name": "ipython",
    "version": 3
   },
   "file_extension": ".py",
   "mimetype": "text/x-python",
   "name": "python",
   "nbconvert_exporter": "python",
   "pygments_lexer": "ipython3",
   "version": "3.11.4"
  }
 },
 "nbformat": 4,
 "nbformat_minor": 2
}
